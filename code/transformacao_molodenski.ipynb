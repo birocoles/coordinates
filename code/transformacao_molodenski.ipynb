{
 "cells": [
  {
   "cell_type": "markdown",
   "metadata": {},
   "source": [
    "# Transformação de coordenadas geodésicas"
   ]
  },
  {
   "cell_type": "markdown",
   "metadata": {},
   "source": [
    "A posição de um ponto localizado sobre a superfície da Terra ou próximo a ela é comumente definida em coordenadas geodésicas, que são referidas a um datum geodésico (ver notebook `coordenadas_geodesicas.ipynb`). Há diferentes datums geodésicos definidos por diferentes elipsóides de revolução. Atualmente, de acordo com o <a href='https://www.ibge.gov.br/geociencias/informacoes-sobre-posicionamento-geodesico/servicos-para-posicionamento-geodesico/16312-progrid.html?=&t=resolucoes-e-legislacao' target='_blank'>IBGE</a>, o Brasil adota o sistema de referência **SIRGAS2000**, cujo datum geodésico é o Elipsoide do Sistema Geodésico de Referência de\n",
    "1980 (*Geodetic Reference System 1980 – GRS80*). Contudo, há outros sistemas que também são utilizados e, frequentemente, é necessário realizar a conversão de coordenadas entre eles. A Tabela 1 sumariza os parâmetros de alguns sistemas de referência utilizados no Brasil."
   ]
  },
  {
   "cell_type": "markdown",
   "metadata": {
    "collapsed": true
   },
   "source": [
    "|Sistema de Referência|Datum geodésico|Semieixo maior $a$ (m)|Achatamento $f$ (m)|\n",
    "|:----:|:-----:|:-----:|:-----:|\n",
    "|Córrego Alegre (CA)|Elipsoide Internacional de Hayford, 1924| 6378388 | 1/297|\n",
    "|South American Datum of 1969 (SAD69)|Elipsoide Internacional de 1967| 6378160 |  1/298,25  |\n",
    "|  World Geodetic System (WGS) | WGS84 | 6378137 | 1/298,257223563 |\n",
    "| SIRGAS2000 | Geodetic Reference System 1980 – GRS80 |  6378137 |  1/298,257222101 |"
   ]
  },
  {
   "cell_type": "markdown",
   "metadata": {},
   "source": [
    "**Tabela 1:** *Parâmetros geométricos que descrevem alguns dos sistemas de referência utilizados no Brasil.*"
   ]
  },
  {
   "cell_type": "code",
   "execution_count": null,
   "metadata": {
    "collapsed": true
   },
   "outputs": [],
   "source": []
  },
  {
   "cell_type": "markdown",
   "metadata": {},
   "source": [
    "Transformação de Molodensky"
   ]
  },
  {
   "cell_type": "code",
   "execution_count": null,
   "metadata": {
    "collapsed": true
   },
   "outputs": [],
   "source": []
  },
  {
   "cell_type": "markdown",
   "metadata": {},
   "source": [
    "Shifts nas coordenadas da origem $(\\text{X}_{0}, \\text{Y}_{0}, \\text{Z}_{0})$:"
   ]
  },
  {
   "cell_type": "markdown",
   "metadata": {},
   "source": [
    "|Sistema 1| Sistema 2| Sistema 2| Sistema 2|\n",
    "|:-----:|:-----:|:-----:|:-----:|\n",
    "| SAD69 | WGS84 | CA | SIRGAS2000 |\n",
    "|$\\Delta \\text{X}_{0}$ (m) | -66,87 | +138,70 | -67,348 | \n",
    "|$\\Delta \\text{Y}_{0}$ (m) | +4,37 | -164,40 | +3,879 |\n",
    "|$\\Delta \\text{Z}_{0}$ (m) | -38,52 | -34,40 | -38,223 |"
   ]
  },
  {
   "cell_type": "markdown",
   "metadata": {},
   "source": [
    "|Sistema 1| Sistema 2| Sistema 2| Sistema 2|\n",
    "|:-----:|:-----:|:-----:|:-----:|\n",
    "| SIRGAS2000 | WGS84 | CA | SAD69 |\n",
    "|$\\Delta \\text{X}_{0}$ (m) | +0,478 | +206,048 | +67,348  | \n",
    "|$\\Delta \\text{Y}_{0}$ (m) | +0,491 | -168,279 | -3,879  |\n",
    "|$\\Delta \\text{Z}_{0}$ (m) | -0,297 | +3,823 | +38,223 |"
   ]
  },
  {
   "cell_type": "markdown",
   "metadata": {},
   "source": [
    "## Referências"
   ]
  },
  {
   "cell_type": "markdown",
   "metadata": {},
   "source": [
    "* <a href='http://www.ufrgs.br/engcart/Teste/refer_exp.html' target='_blank'>www.ufrgs.br/engcart</a>\n",
    "\n",
    "\n",
    "* <a href='https://www.ibge.gov.br/geociencias/informacoes-sobre-posicionamento-geodesico/servicos-para-posicionamento-geodesico/16312-progrid.html?=&t=resolucoes-e-legislacao' target='_blank'>Resoluções e legislação IBGE</a>\n",
    "\n",
    "\n",
    "* <a href='https://en.wikipedia.org/wiki/World_Geodetic_System#A_new_World_Geodetic_System:_WGS_84' target='_blank'>https://en.wikipedia.org/wiki/World_Geodetic_System</a>"
   ]
  },
  {
   "cell_type": "code",
   "execution_count": null,
   "metadata": {
    "collapsed": true
   },
   "outputs": [],
   "source": []
  }
 ],
 "metadata": {
  "kernelspec": {
   "display_name": "Python 3",
   "language": "python",
   "name": "python3"
  },
  "language_info": {
   "codemirror_mode": {
    "name": "ipython",
    "version": 3
   },
   "file_extension": ".py",
   "mimetype": "text/x-python",
   "name": "python",
   "nbconvert_exporter": "python",
   "pygments_lexer": "ipython3",
   "version": "3.7.7"
  }
 },
 "nbformat": 4,
 "nbformat_minor": 1
}
